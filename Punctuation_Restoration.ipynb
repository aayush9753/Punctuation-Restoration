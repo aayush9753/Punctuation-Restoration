{
  "nbformat": 4,
  "nbformat_minor": 0,
  "metadata": {
    "colab": {
      "name": "Punctuation Restoration",
      "provenance": [],
      "authorship_tag": "ABX9TyMOoYHo3ZrXWL+7R9iOvCwE",
      "include_colab_link": true
    },
    "kernelspec": {
      "name": "python3",
      "display_name": "Python 3"
    },
    "accelerator": "GPU"
  },
  "cells": [
    {
      "cell_type": "markdown",
      "metadata": {
        "id": "view-in-github",
        "colab_type": "text"
      },
      "source": [
        "<a href=\"https://colab.research.google.com/github/aayush9753/Punctuation-Restoration/blob/main/Punctuation_Restoration.ipynb\" target=\"_parent\"><img src=\"https://colab.research.google.com/assets/colab-badge.svg\" alt=\"Open In Colab\"/></a>"
      ]
    },
    {
      "cell_type": "code",
      "metadata": {
        "colab": {
          "base_uri": "https://localhost:8080/",
          "height": 0
        },
        "id": "gHExs12FvADO",
        "outputId": "f0df58ec-24be-43a7-cf59-35f0365c2aa0"
      },
      "source": [
        "pip install --upgrade fastpunct"
      ],
      "execution_count": 1,
      "outputs": [
        {
          "output_type": "stream",
          "text": [
            "Collecting fastpunct\n",
            "  Downloading https://files.pythonhosted.org/packages/8e/dd/4d7c811e797d63be8b238f75d40919a84936894934ccb39a40225f17fd94/fastpunct-1.0.2-py3-none-any.whl\n",
            "Collecting pydload\n",
            "  Downloading https://files.pythonhosted.org/packages/88/08/001d390cb7b246a1265d9f1a24f9b08637c37fb9b0cfcb55f528d2aeb4c5/pydload-1.0.9-py2.py3-none-any.whl\n",
            "Requirement already satisfied, skipping upgrade: numpy in /usr/local/lib/python3.6/dist-packages (from fastpunct) (1.19.5)\n",
            "Requirement already satisfied, skipping upgrade: progressbar2 in /usr/local/lib/python3.6/dist-packages (from pydload->fastpunct) (3.38.0)\n",
            "Requirement already satisfied, skipping upgrade: requests in /usr/local/lib/python3.6/dist-packages (from pydload->fastpunct) (2.23.0)\n",
            "Requirement already satisfied, skipping upgrade: six in /usr/local/lib/python3.6/dist-packages (from progressbar2->pydload->fastpunct) (1.15.0)\n",
            "Requirement already satisfied, skipping upgrade: python-utils>=2.3.0 in /usr/local/lib/python3.6/dist-packages (from progressbar2->pydload->fastpunct) (2.5.5)\n",
            "Requirement already satisfied, skipping upgrade: certifi>=2017.4.17 in /usr/local/lib/python3.6/dist-packages (from requests->pydload->fastpunct) (2020.12.5)\n",
            "Requirement already satisfied, skipping upgrade: chardet<4,>=3.0.2 in /usr/local/lib/python3.6/dist-packages (from requests->pydload->fastpunct) (3.0.4)\n",
            "Requirement already satisfied, skipping upgrade: idna<3,>=2.5 in /usr/local/lib/python3.6/dist-packages (from requests->pydload->fastpunct) (2.10)\n",
            "Requirement already satisfied, skipping upgrade: urllib3!=1.25.0,!=1.25.1,<1.26,>=1.21.1 in /usr/local/lib/python3.6/dist-packages (from requests->pydload->fastpunct) (1.24.3)\n",
            "Installing collected packages: pydload, fastpunct\n",
            "Successfully installed fastpunct-1.0.2 pydload-1.0.9\n"
          ],
          "name": "stdout"
        }
      ]
    },
    {
      "cell_type": "code",
      "metadata": {
        "colab": {
          "base_uri": "https://localhost:8080/",
          "height": 0
        },
        "id": "LXgDBhdXvMrl",
        "outputId": "7df0dc28-2967-4ebb-8f83-32388b65afd0"
      },
      "source": [
        "from fastpunct import FastPunct\r\n",
        "# The default language is 'en'\r\n",
        "fastpunct = FastPunct('en')"
      ],
      "execution_count": 2,
      "outputs": [
        {
          "output_type": "stream",
          "text": [
            "Downloading checkpoint https://github.com/notAI-tech/fastPunct/releases/download/checkpoint-release/fastpunct_eng_weights.h5 to /root/.fastPunct_en/checkpoint.h5\n"
          ],
          "name": "stdout"
        },
        {
          "output_type": "stream",
          "text": [
            "MB100% (3.0 of 3.0) |####################| Elapsed Time: 0:00:00 Time:  0:00:00\n",
            "MB100% (1.0 of 1.0) |####################| Elapsed Time: 0:00:00 Time:  0:00:00\n"
          ],
          "name": "stderr"
        },
        {
          "output_type": "stream",
          "text": [
            "Succefully Downloaded to: /root/.fastPunct_en/checkpoint.h5\n",
            "Downloading model params https://github.com/notAI-tech/fastPunct/releases/download/checkpoint-release/parameter_dict.pkl to /root/.fastPunct_en/params.pkl\n",
            "Succefully Downloaded to: /root/.fastPunct_en/params.pkl\n"
          ],
          "name": "stdout"
        }
      ]
    },
    {
      "cell_type": "code",
      "metadata": {
        "colab": {
          "base_uri": "https://localhost:8080/",
          "height": 0
        },
        "id": "CZIPVnFhvVf0",
        "outputId": "8be54564-40ae-4e6f-e373-d5cee392e076"
      },
      "source": [
        "fastpunct.punct([\"oh i thought you were here\", \"in theory everyone knows what a comma is\", \"hey how are you doing\", \"my name is sheela i am in love with hrithik\"], batch_size=32)"
      ],
      "execution_count": 14,
      "outputs": [
        {
          "output_type": "execute_result",
          "data": {
            "text/plain": [
              "['Oh, I thought you were here.',\n",
              " 'In theory, everyone knows what a comma is.',\n",
              " 'Hey, how are you doing?',\n",
              " 'My name is Sheela, I am in love with Hrithik.']"
            ]
          },
          "metadata": {
            "tags": []
          },
          "execution_count": 14
        }
      ]
    },
    {
      "cell_type": "code",
      "metadata": {
        "id": "lojkqsw9vfsW"
      },
      "source": [
        "transcript = \"\"\"just how deep does the ocean go if he\r\n",
        "took the highest point on land and\r\n",
        "submerged it you would still have more\r\n",
        "than a mile between you in the deepest\r\n",
        "point in the oceans the oceans Harbor\r\n",
        "ninety-nine percent of all living space\r\n",
        "on earth and have enough water to fill a\r\n",
        "bathtub that's 685 miles long on each\r\n",
        "side for scale here's a human and here's\r\n",
        "a blue whale the largest animal on earth\r\n",
        "\"\"\""
      ],
      "execution_count": 10,
      "outputs": []
    },
    {
      "cell_type": "code",
      "metadata": {
        "colab": {
          "base_uri": "https://localhost:8080/",
          "height": 0
        },
        "id": "Cx9fKJoav9RI",
        "outputId": "ee9a0a58-e033-4eae-f440-fdcf26b32743"
      },
      "source": [
        "print(transcript)"
      ],
      "execution_count": 11,
      "outputs": [
        {
          "output_type": "stream",
          "text": [
            "just how deep does the ocean go if he\n",
            "took the highest point on land and\n",
            "submerged it you would still have more\n",
            "than a mile between you in the deepest\n",
            "point in the oceans the oceans Harbor\n",
            "ninety-nine percent of all living space\n",
            "on earth and have enough water to fill a\n",
            "bathtub that's 685 miles long on each\n",
            "side for scale here's a human and here's\n",
            "a blue whale the largest animal on earth\n",
            "\n"
          ],
          "name": "stdout"
        }
      ]
    },
    {
      "cell_type": "code",
      "metadata": {
        "id": "JBFc3yIbvZ0c"
      },
      "source": [
        "punctuated_transcript = fastpunct.punct([transcript], batch_size=32)"
      ],
      "execution_count": 15,
      "outputs": []
    },
    {
      "cell_type": "code",
      "metadata": {
        "colab": {
          "base_uri": "https://localhost:8080/",
          "height": 0
        },
        "id": "Z2sdientvrQJ",
        "outputId": "e60d071f-b916-41ff-9fe1-1f5f1e0dc66f"
      },
      "source": [
        "print(punctuated_transcript[0])"
      ],
      "execution_count": 17,
      "outputs": [
        {
          "output_type": "stream",
          "text": [
            "Just how deep does the ocean go? If Hetook, the highest point on land, and'submerged it you would still have more'than a mile between you in the deepestpoint in the oceans. The oceans harborninetynine percent of all living spaceon Earth and have enough water to fill abathtub that's 685 miles long on eachside for scale here's a human and heresa blue whale, the largest animal on Earth.\n"
          ],
          "name": "stdout"
        }
      ]
    },
    {
      "cell_type": "code",
      "metadata": {
        "colab": {
          "base_uri": "https://localhost:8080/",
          "height": 69
        },
        "id": "nwjJe5YwwkOi",
        "outputId": "d7109d6f-75b4-4d10-b37a-490d767b0cf7"
      },
      "source": [
        "punctuated_transcript[0]"
      ],
      "execution_count": 18,
      "outputs": [
        {
          "output_type": "execute_result",
          "data": {
            "application/vnd.google.colaboratory.intrinsic+json": {
              "type": "string"
            },
            "text/plain": [
              "\"Just how deep does the ocean go? If Hetook, the highest point on land, and'submerged it you would still have more'than a mile between you in the deepestpoint in the oceans. The oceans harborninetynine percent of all living spaceon Earth and have enough water to fill abathtub that's 685 miles long on eachside for scale here's a human and heresa blue whale, the largest animal on Earth.\""
            ]
          },
          "metadata": {
            "tags": []
          },
          "execution_count": 18
        }
      ]
    }
  ]
}